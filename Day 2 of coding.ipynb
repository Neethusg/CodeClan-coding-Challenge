{
  "nbformat": 4,
  "nbformat_minor": 0,
  "metadata": {
    "colab": {
      "provenance": []
    },
    "kernelspec": {
      "name": "python3",
      "display_name": "Python 3"
    },
    "language_info": {
      "name": "python"
    }
  },
  "cells": [
    {
      "cell_type": "markdown",
      "source": [
        "Method 1 :While Loop\n"
      ],
      "metadata": {
        "id": "y5aBe9LKoPD8"
      }
    },
    {
      "cell_type": "code",
      "source": [
        "import random\n",
        "\n",
        "# Generate a random number between 1 and 10\n",
        "magic_number = random.randint(1, 10)\n",
        "\n",
        "print(\"Welcome to the Magic Number Guessing Game!\")\n",
        "print(\"Try to guess the number between 1 and 10.\")\n",
        "\n",
        "while True:\n",
        "    try:\n",
        "        # Get user input\n",
        "        guess = int(input(\"Guess a number between 1 and 10: \"))\n",
        "\n",
        "        # Check if the guess is correct\n",
        "        if guess < magic_number:\n",
        "            print(\"Too low! Try again.\")\n",
        "        elif guess > magic_number:\n",
        "            print(\"Too high! Try again.\")\n",
        "        else:\n",
        "            print(\" Correct! You guessed it!\")\n",
        "            break  # Exit the loop when guessed correctly\n",
        "    except ValueError:\n",
        "        print(\"Please enter a valid number.\")"
      ],
      "metadata": {
        "colab": {
          "base_uri": "https://localhost:8080/"
        },
        "id": "In9ABHQBoOXl",
        "outputId": "3bf8cfa1-fb13-479b-c609-e30da41fbe0a"
      },
      "execution_count": 1,
      "outputs": [
        {
          "output_type": "stream",
          "name": "stdout",
          "text": [
            "Welcome to the Magic Number Guessing Game!\n",
            "Try to guess the number between 1 and 10.\n",
            "Guess a number between 1 and 10: 12\n",
            "Too high! Try again.\n",
            "Guess a number between 1 and 10: 13\n",
            "Too high! Try again.\n",
            "Guess a number between 1 and 10: 5\n",
            "Too low! Try again.\n",
            "Guess a number between 1 and 10: 6\n",
            "Too low! Try again.\n",
            "Guess a number between 1 and 10: 9\n",
            "Too high! Try again.\n",
            "Guess a number between 1 and 10: 10\n",
            "Too high! Try again.\n",
            "Guess a number between 1 and 10: 4\n",
            "Too low! Try again.\n",
            "Guess a number between 1 and 10: 1\n",
            "Too low! Try again.\n",
            "Guess a number between 1 and 10: 2\n",
            "Too low! Try again.\n",
            "Guess a number between 1 and 10: 3\n",
            "Too low! Try again.\n",
            "Guess a number between 1 and 10: 4\n",
            "Too low! Try again.\n",
            "Guess a number between 1 and 10: 5\n",
            "Too low! Try again.\n",
            "Guess a number between 1 and 10: 6\n",
            "Too low! Try again.\n",
            "Guess a number between 1 and 10: 7\n",
            " Correct! You guessed it!\n"
          ]
        }
      ]
    },
    {
      "cell_type": "markdown",
      "source": [
        "Method 2 : For Loop"
      ],
      "metadata": {
        "id": "-y06utR5pWWI"
      }
    },
    {
      "cell_type": "code",
      "source": [
        "import random\n",
        "\n",
        "# Generate a random number between 1 and 10\n",
        "magic_number = random.randint(1, 10)\n",
        "\n",
        "print(\" Welcome to the Magic Number Guessing Game!\")\n",
        "print(\"Try to guess the number between 1 and 10. You have 5 attempts.\")\n",
        "\n",
        "# Allow the user up to 5 attempts\n",
        "for attempt in range(5):\n",
        "    try:\n",
        "        guess = int(input(f\"Attempt {attempt + 1}/5 - Guess a number: \"))\n",
        "\n",
        "        if guess < magic_number:\n",
        "            print(\" Too low! Try again.\")\n",
        "        elif guess > magic_number:\n",
        "            print(\" Too high! Try again.\")\n",
        "        else:\n",
        "            print(\" Correct! You guessed it!\")\n",
        "            break  # Exit loop when guessed correctly\n",
        "    except ValueError:\n",
        "        print(\"Invalid input! Please enter a number between 1 and 10.\")\n",
        "\n",
        "# If the user didn't guess in 5 attempts, reveal the number\n",
        "else:\n",
        "    print(f\"Out of attempts! The correct number was {magic_number}.\")"
      ],
      "metadata": {
        "colab": {
          "base_uri": "https://localhost:8080/"
        },
        "id": "iWxhJy6youOZ",
        "outputId": "24b29cb5-fee6-4e71-c98e-c8bc4e0d5120"
      },
      "execution_count": 2,
      "outputs": [
        {
          "output_type": "stream",
          "name": "stdout",
          "text": [
            " Welcome to the Magic Number Guessing Game!\n",
            "Try to guess the number between 1 and 10. You have 5 attempts.\n",
            "Attempt 1/5 - Guess a number: 5\n",
            " Too low! Try again.\n",
            "Attempt 2/5 - Guess a number: 6\n",
            " Correct! You guessed it!\n"
          ]
        }
      ]
    },
    {
      "cell_type": "code",
      "source": [],
      "metadata": {
        "id": "fKr5gadgpgB1"
      },
      "execution_count": null,
      "outputs": []
    }
  ]
}