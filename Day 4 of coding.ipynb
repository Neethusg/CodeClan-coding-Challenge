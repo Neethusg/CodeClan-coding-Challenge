{
  "nbformat": 4,
  "nbformat_minor": 0,
  "metadata": {
    "colab": {
      "provenance": []
    },
    "kernelspec": {
      "name": "python3",
      "display_name": "Python 3"
    },
    "language_info": {
      "name": "python"
    }
  },
  "cells": [
    {
      "cell_type": "markdown",
      "source": [
        "**Day 4 of Coding Challenge**"
      ],
      "metadata": {
        "id": "daOVPmM_Rbt8"
      }
    },
    {
      "cell_type": "code",
      "execution_count": 2,
      "metadata": {
        "colab": {
          "base_uri": "https://localhost:8080/"
        },
        "id": "AQUf_rPCRFlx",
        "outputId": "296a23fe-799d-4348-b216-fb96ac103151"
      },
      "outputs": [
        {
          "output_type": "stream",
          "name": "stdout",
          "text": [
            "How are you feeling? angry\n",
            "😠 Take a deep breath!\n"
          ]
        }
      ],
      "source": [
        "def emoji_mood_checker():\n",
        "    mood = input(\"How are you feeling? \").lower()\n",
        "\n",
        "    if mood == \"happy\":\n",
        "        print(\"😊 Stay positive!\")\n",
        "    elif mood == \"sad\":\n",
        "        print(\"😢 Things will get better!\")\n",
        "    elif mood == \"angry\":\n",
        "        print(\"😠 Take a deep breath!\")\n",
        "    elif mood == \"excited\":\n",
        "        print(\"🤩 Enjoy the moment!\")\n",
        "    elif mood == \"tired\":\n",
        "        print(\"😴 Get some rest!\")\n",
        "    elif mood == \"nervous\":\n",
        "        print(\"😬 You got this!\")\n",
        "    else:\n",
        "        print(\"🤔 I'm not sure how to respond to that, but I hope you have a great day!\")\n",
        "\n",
        "emoji_mood_checker()"
      ]
    },
    {
      "cell_type": "code",
      "source": [],
      "metadata": {
        "id": "ft3FWsYYRJeW"
      },
      "execution_count": null,
      "outputs": []
    }
  ]
}