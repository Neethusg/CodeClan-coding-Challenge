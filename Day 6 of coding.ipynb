{
  "nbformat": 4,
  "nbformat_minor": 0,
  "metadata": {
    "colab": {
      "provenance": []
    },
    "kernelspec": {
      "name": "python3",
      "display_name": "Python 3"
    },
    "language_info": {
      "name": "python"
    }
  },
  "cells": [
    {
      "cell_type": "code",
      "execution_count": 2,
      "metadata": {
        "colab": {
          "base_uri": "https://localhost:8080/"
        },
        "id": "daVBYLgeXXt3",
        "outputId": "ec5ec6dd-725f-469d-c12e-0dc34e10bcb9"
      },
      "outputs": [
        {
          "output_type": "stream",
          "name": "stdout",
          "text": [
            "Enter temperature: 100\n",
            "Enter unit (C/F): f\n",
            "100.0°F is equal to 37.77777777777778°C\n"
          ]
        }
      ],
      "source": [
        "def convert_temperature():\n",
        "    try:\n",
        "        # Get temperature input from the user\n",
        "        temp = float(input(\"Enter temperature: \"))\n",
        "        unit = input(\"Enter unit (C/F): \").strip().upper()\n",
        "\n",
        "        # Convert based on the unit\n",
        "        if unit == \"C\":\n",
        "            converted_temp = (temp * 9/5) + 32\n",
        "            print(f\"{temp}°C is equal to {converted_temp}°F\")\n",
        "        elif unit == \"F\":\n",
        "            converted_temp = (temp - 32) * 5/9\n",
        "            print(f\"{temp}°F is equal to {converted_temp}°C\")\n",
        "        else:\n",
        "            print(\"Invalid unit! Please enter 'C' for Celsius or 'F' for Fahrenheit.\")\n",
        "\n",
        "    except ValueError:\n",
        "        print(\"Invalid input! Please enter a numerical value for temperature.\")\n",
        "\n",
        "convert_temperature()"
      ]
    },
    {
      "cell_type": "code",
      "source": [],
      "metadata": {
        "id": "Fg4x-0TkXem3"
      },
      "execution_count": null,
      "outputs": []
    }
  ]
}