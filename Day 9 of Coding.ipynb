{
  "nbformat": 4,
  "nbformat_minor": 0,
  "metadata": {
    "colab": {
      "provenance": []
    },
    "kernelspec": {
      "name": "python3",
      "display_name": "Python 3"
    },
    "language_info": {
      "name": "python"
    }
  },
  "cells": [
    {
      "cell_type": "code",
      "execution_count": null,
      "metadata": {
        "colab": {
          "base_uri": "https://localhost:8080/"
        },
        "id": "CMJ-aVdaNmNx",
        "outputId": "929caaad-c5d0-4309-baa4-d339d097e9d0"
      },
      "outputs": [
        {
          "output_type": "stream",
          "name": "stdout",
          "text": [
            "Welcome to Rock-Paper-Scissors!\n",
            "Choose rock, paper, or scissors: rock\n",
            "Your choice: rock\n",
            "Computer's choice: scissors\n",
            "Player wins!\n",
            "Score - Player: 1 / Computer: 0\n",
            "Play again? (yes/no): yes\n",
            "Choose rock, paper, or scissors: paper\n",
            "Your choice: paper\n",
            "Computer's choice: rock\n",
            "Player wins!\n",
            "Score - Player: 2 / Computer: 0\n",
            "Play again? (yes/no): yes\n",
            "Choose rock, paper, or scissors: scissors\n",
            "Your choice: scissors\n",
            "Computer's choice: rock\n",
            "Computer wins!\n",
            "Score - Player: 2 / Computer: 1\n"
          ]
        }
      ],
      "source": [
        "import random\n",
        "\n",
        "winning_cases = {\n",
        "    \"rock\": \"scissors\",\n",
        "    \"paper\": \"rock\",\n",
        "    \"scissors\": \"paper\"\n",
        "}\n",
        "\n",
        "def get_computer_choice():\n",
        "    return random.choice(list(winning_cases.keys()))\n",
        "\n",
        "def determine_winner(player, computer):\n",
        "    if player == computer:\n",
        "        return \"It's a tie!\"\n",
        "    elif winning_cases[player] == computer:\n",
        "        return \"Player wins!\"\n",
        "    else:\n",
        "        return \"Computer wins!\"\n",
        "\n",
        "def play_game():\n",
        "    player_score = 0\n",
        "    computer_score = 0\n",
        "\n",
        "    print(\"Welcome to Rock-Paper-Scissors!\")\n",
        "\n",
        "    while True:\n",
        "        player_choice = input(\"Choose rock, paper, or scissors: \").lower()\n",
        "\n",
        "        if player_choice not in winning_cases:\n",
        "            print(\"Invalid choice, please try again.\")\n",
        "            continue\n",
        "\n",
        "        computer_choice = get_computer_choice()\n",
        "        print(f\"Your choice: {player_choice}\")\n",
        "        print(f\"Computer's choice: {computer_choice}\")\n",
        "\n",
        "        result = determine_winner(player_choice, computer_choice)\n",
        "        print(result)\n",
        "\n",
        "        if result == \"Player wins!\":\n",
        "            player_score += 1\n",
        "        elif result == \"Computer wins!\":\n",
        "            computer_score += 1\n",
        "\n",
        "        print(f\"Score - Player: {player_score} / Computer: {computer_score}\")\n",
        "\n",
        "        if input(\"Play again? (yes/no): \").lower() != \"yes\":\n",
        "            print(\"Thanks for playing!\")\n",
        "            print(f\"Final Score - Player: {player_score} / Computer: {computer_score}\")\n",
        "            break\n",
        "\n",
        "play_game()"
      ]
    },
    {
      "cell_type": "code",
      "source": [],
      "metadata": {
        "id": "T-K4xjm3NnF-"
      },
      "execution_count": null,
      "outputs": []
    }
  ]
}