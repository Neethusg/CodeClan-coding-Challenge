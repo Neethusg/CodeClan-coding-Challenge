{
  "nbformat": 4,
  "nbformat_minor": 0,
  "metadata": {
    "colab": {
      "provenance": []
    },
    "kernelspec": {
      "name": "python3",
      "display_name": "Python 3"
    },
    "language_info": {
      "name": "python"
    }
  },
  "cells": [
    {
      "cell_type": "markdown",
      "source": [
        "**Day 5 of coding challenge**"
      ],
      "metadata": {
        "id": "m2lXJV2uWjkq"
      }
    },
    {
      "cell_type": "code",
      "execution_count": 1,
      "metadata": {
        "colab": {
          "base_uri": "https://localhost:8080/"
        },
        "id": "yUf9JDoxWbLy",
        "outputId": "525e1d75-1b5d-46c1-c542-7c5ddac2bb8b"
      },
      "outputs": [
        {
          "output_type": "stream",
          "name": "stdout",
          "text": [
            "Simple Calculator\n",
            "Operations: +, -, *, /\n",
            "Choose an operation (+, -, *, /): +\n",
            "Enter first number: 12\n",
            "Enter second number: 900\n",
            "Result: 912.0\n"
          ]
        }
      ],
      "source": [
        "def calculator():\n",
        "    print(\"Simple Calculator\")\n",
        "    print(\"Operations: +, -, *, /\")\n",
        "\n",
        "    # Get user input for operation\n",
        "    operation = input(\"Choose an operation (+, -, *, /): \")\n",
        "\n",
        "    # Get user input for numbers\n",
        "    try:\n",
        "        num1 = float(input(\"Enter first number: \"))\n",
        "        num2 = float(input(\"Enter second number: \"))\n",
        "    except ValueError:\n",
        "        print(\"Invalid input! Please enter numbers only.\")\n",
        "        return\n",
        "\n",
        "    # Perform calculation based on user input\n",
        "    if operation == \"+\":\n",
        "        result = num1 + num2\n",
        "    elif operation == \"-\":\n",
        "        result = num1 - num2\n",
        "    elif operation == \"*\":\n",
        "        result = num1 * num2\n",
        "    elif operation == \"/\":\n",
        "        if num2 == 0:\n",
        "            print(\"Error! Division by zero is not allowed.\")\n",
        "            return\n",
        "        result = num1 / num2\n",
        "    else:\n",
        "        print(\"Invalid operation selected!\")\n",
        "        return\n",
        "\n",
        "    print(f\"Result: {result}\")\n",
        "\n",
        "# Run the calculator\n",
        "calculator()"
      ]
    },
    {
      "cell_type": "code",
      "source": [],
      "metadata": {
        "id": "m8G0D9JlWcBk"
      },
      "execution_count": null,
      "outputs": []
    }
  ]
}