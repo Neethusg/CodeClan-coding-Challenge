{
  "nbformat": 4,
  "nbformat_minor": 0,
  "metadata": {
    "colab": {
      "provenance": []
    },
    "kernelspec": {
      "name": "python3",
      "display_name": "Python 3"
    },
    "language_info": {
      "name": "python"
    }
  },
  "cells": [
    {
      "cell_type": "code",
      "execution_count": 2,
      "metadata": {
        "colab": {
          "base_uri": "https://localhost:8080/"
        },
        "id": "ZZdNiSxZ1NvK",
        "outputId": "51192aa9-4eb7-4693-bf44-773a1582e3ae"
      },
      "outputs": [
        {
          "output_type": "stream",
          "name": "stdout",
          "text": [
            "Enter grade (e.g., 10, 11): 11\n",
            "File does not exist. Creating new file...\n",
            "Enter student name: Neethu\n",
            "Student added successfully.\n",
            "Do you want to read the file? (yes/no): yes\n",
            "\n",
            "File contents:\n",
            "Neethu\n",
            "\n",
            "Do you want to create a backup? (yes/no): yes\n",
            "Backup created successfully.\n",
            "Do you want to delete the original file? (yes/no): yes\n",
            "Original file deleted successfully.\n"
          ]
        }
      ],
      "source": [
        "import os\n",
        "import shutil\n",
        "\n",
        "def get_filename(grade):\n",
        "    return f\"grade_{grade}.txt\"\n",
        "\n",
        "def add_student(filename):\n",
        "    student_name = input(\"Enter student name: \")\n",
        "    with open(filename, \"a\") as file:\n",
        "        file.write(student_name + \"\\n\")\n",
        "    print(\"Student added successfully.\")\n",
        "\n",
        "def read_file(filename):\n",
        "    with open(filename, \"r\") as file:\n",
        "        print(\"\\nFile contents:\")\n",
        "        print(file.read())\n",
        "\n",
        "def create_backup(filename):\n",
        "    backup_filename = filename + \".bak\"\n",
        "    shutil.copy(filename, backup_filename)\n",
        "    print(\"Backup created successfully.\")\n",
        "    return backup_filename\n",
        "\n",
        "def delete_original(filename, backup_filename):\n",
        "    if os.path.exists(backup_filename):\n",
        "        os.remove(filename)\n",
        "        print(\"Original file deleted successfully.\")\n",
        "    else:\n",
        "        print(\"Backup file not found. Cannot delete original file.\")\n",
        "\n",
        "def main():\n",
        "    grade = input(\"Enter grade (e.g., 10, 11): \")\n",
        "    filename = get_filename(grade)\n",
        "\n",
        "    if not os.path.exists(filename):\n",
        "        print(\"File does not exist. Creating new file...\")\n",
        "        open(filename, \"w\").close()\n",
        "\n",
        "    add_student(filename)\n",
        "\n",
        "    if input(\"Do you want to read the file? (yes/no): \").strip().lower() == \"yes\":\n",
        "        read_file(filename)\n",
        "\n",
        "    backup_filename = \"\"\n",
        "    if input(\"Do you want to create a backup? (yes/no): \").strip().lower() == \"yes\":\n",
        "        backup_filename = create_backup(filename)\n",
        "\n",
        "    if input(\"Do you want to delete the original file? (yes/no): \").strip().lower() == \"yes\":\n",
        "        delete_original(filename, backup_filename)\n",
        "\n",
        "if __name__ == \"__main__\":\n",
        "    main()\n"
      ]
    },
    {
      "cell_type": "code",
      "source": [],
      "metadata": {
        "id": "r3D2LvYp1One"
      },
      "execution_count": null,
      "outputs": []
    }
  ]
}