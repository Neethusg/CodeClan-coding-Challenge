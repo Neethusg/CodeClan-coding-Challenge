{
  "nbformat": 4,
  "nbformat_minor": 0,
  "metadata": {
    "colab": {
      "provenance": []
    },
    "kernelspec": {
      "name": "python3",
      "display_name": "Python 3"
    },
    "language_info": {
      "name": "python"
    }
  },
  "cells": [
    {
      "cell_type": "code",
      "execution_count": 3,
      "metadata": {
        "colab": {
          "base_uri": "https://localhost:8080/"
        },
        "id": "30UBZHP6R8xF",
        "outputId": "4224af91-47f7-439a-fa49-64aa2bb9a571"
      },
      "outputs": [
        {
          "output_type": "stream",
          "name": "stdout",
          "text": [
            "Enter a word or phrase: Malayalam\n",
            "Yes, \"Malayalam\" is a palindrome!\n"
          ]
        }
      ],
      "source": [
        "def is_palindrome(text):\n",
        "    cleaned_text = ''.join(filter(str.isalnum, text)).lower()\n",
        "    return cleaned_text == cleaned_text[::-1]\n",
        "\n",
        "user_input = input(\"Enter a word or phrase: \")\n",
        "\n",
        "if is_palindrome(user_input):\n",
        "    print(f'Yes, \"{user_input}\" is a palindrome!')\n",
        "else:\n",
        "    print(f'No, \"{user_input}\" is not a palindrome.')"
      ]
    },
    {
      "cell_type": "code",
      "source": [],
      "metadata": {
        "id": "uX4XSEw3SAUg"
      },
      "execution_count": 3,
      "outputs": []
    }
  ]
}