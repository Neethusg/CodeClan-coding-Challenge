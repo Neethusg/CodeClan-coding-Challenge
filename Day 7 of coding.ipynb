{
  "nbformat": 4,
  "nbformat_minor": 0,
  "metadata": {
    "colab": {
      "provenance": []
    },
    "kernelspec": {
      "name": "python3",
      "display_name": "Python 3"
    },
    "language_info": {
      "name": "python"
    }
  },
  "cells": [
    {
      "cell_type": "code",
      "execution_count": 1,
      "metadata": {
        "colab": {
          "base_uri": "https://localhost:8080/"
        },
        "id": "5rm1WBfbjauX",
        "outputId": "1b2330d4-9416-43f8-d96c-dfe73c2b31cf"
      },
      "outputs": [
        {
          "output_type": "stream",
          "name": "stdout",
          "text": [
            "Deposited 500. New balance: 1500\n",
            "Withdrawn 300. New balance: 1200\n",
            "Account Holder: Neethu Current Balance: 1200\n"
          ]
        }
      ],
      "source": [
        "class BankAccount:\n",
        "    def __init__(self, account_holder, balance=0):\n",
        "        self.account_holder = account_holder\n",
        "        self.balance = balance\n",
        "\n",
        "    def deposit(self, amount):\n",
        "        self.balance += amount\n",
        "        print(f\"Deposited {amount}. New balance: {self.balance}\")\n",
        "\n",
        "    def withdraw(self, amount):\n",
        "        if amount > self.balance:\n",
        "            print(\"Insufficient funds!\")\n",
        "        else:\n",
        "            self.balance -= amount\n",
        "            print(f\"Withdrawn {amount}. New balance: {self.balance}\")\n",
        "\n",
        "    def check_balance(self):\n",
        "        print(f\"Account Holder: {self.account_holder} Current Balance: {self.balance}\")\n",
        "\n",
        "\n",
        "moneyaccount = BankAccount(\"Neethu\", 1000)\n",
        "moneyaccount.deposit(500)\n",
        "moneyaccount.withdraw(300)\n",
        "moneyaccount.check_balance()\n"
      ]
    },
    {
      "cell_type": "code",
      "source": [],
      "metadata": {
        "id": "rzeBODAajn1Y"
      },
      "execution_count": null,
      "outputs": []
    }
  ]
}